{
 "cells": [
  {
   "cell_type": "code",
   "execution_count": 12,
   "metadata": {},
   "outputs": [],
   "source": [
    "#Ex1: Escreva uma função que retorne o quadrado de um número.\n",
    "#Ex2:Escreva uma função que retorne a raiz quadrada de um número.\n",
    "#Ex3: Escreva uma função que faça a soma do quadrado de 2 números (a²+b²).\n",
    "#Ex4: Escreva uma função que retorne a raiz quadrada da soma do quadrado de 2 números (raiz de a²+b²).\n",
    "#Ex5: Escreva uma função que retorne o reverso de um número inteiro informado.\n",
    "#Ex6: Faça uma função que informe a quantidade de dígitos de um determinado número inteiro informado.\n",
    "#Ex7: Construa uma função que receba uma string como parâmetro e devolva outra string com os carateres embaralhados.\n",
    "#Ex8: Faça um programa, com uma função que necessite de um argumento. A função retorna o valor de caractere ‘P’, se seu argumento for positivo, e ‘N’, se seu argumento for zero ou negativo."
   ]
  },
  {
   "cell_type": "code",
   "execution_count": 1,
   "metadata": {},
   "outputs": [
    {
     "name": "stdout",
     "output_type": "stream",
     "text": [
      "9\n"
     ]
    }
   ],
   "source": [
    "#Ex1: Escreva uma função que retorne o quadrado de um número.\n",
    "\n",
    "import math\n",
    "\n",
    "def retorna_quadrado(a):\n",
    "        print((a*a))\n",
    "retorna_quadrado(3)"
   ]
  },
  {
   "cell_type": "code",
   "execution_count": 1,
   "metadata": {},
   "outputs": [
    {
     "name": "stdout",
     "output_type": "stream",
     "text": [
      "7.0\n"
     ]
    }
   ],
   "source": [
    "#Ex2:Escreva uma função que retorne a raiz quadrada de um número.\n",
    "\n",
    "import math\n",
    "\n",
    "def retorna_raiz(a):\n",
    "    print(math.sqrt(a))\n",
    "retorna_raiz(49)\n"
   ]
  },
  {
   "cell_type": "code",
   "execution_count": 7,
   "metadata": {},
   "outputs": [
    {
     "name": "stdout",
     "output_type": "stream",
     "text": [
      "34\n"
     ]
    }
   ],
   "source": [
    "#Ex3: Escreva uma função que faça a soma do quadrado de 2 números (a²+b²).\n",
    "#Forma mais limpa de colocar um número a potência ou ao quadrado!\n",
    "def soma_quadrado(a,b):\n",
    "    print((a**2+ b**2)) \n",
    "soma_quadrado(3,5)"
   ]
  },
  {
   "cell_type": "code",
   "execution_count": 9,
   "metadata": {},
   "outputs": [
    {
     "name": "stdout",
     "output_type": "stream",
     "text": [
      "100.07996802557443\n"
     ]
    }
   ],
   "source": [
    "#Ex4: Escreva uma função que retorne a raiz quadrada da soma do quadrado de 2 números (raiz de a²+b²).\n",
    "\n",
    "import math\n",
    "\n",
    "def retorna_raiz_msoma(a,b):\n",
    "    print(math.sqrt(a**2+b**2))\n",
    "retorna_raiz_msoma(4,100)"
   ]
  },
  {
   "cell_type": "code",
   "execution_count": 12,
   "metadata": {},
   "outputs": [
    {
     "name": "stdout",
     "output_type": "stream",
     "text": [
      "3334\n",
      "3334\n"
     ]
    }
   ],
   "source": [
    "#Ex5: Escreva uma função que retorne o reverso de um número inteiro informado.\n",
    "\n",
    "#Incorreto pois precisa passar o num interio para uma string\n",
    "def retorna_reverso(a):\n",
    "    print(a[::-1])\n",
    "retorna_reverso(\"4333\")\n",
    "\n",
    "#Forma correta\n",
    "def retorna_reverso(a):\n",
    "    print(str(a)[::-1])\n",
    "retorna_reverso(4333)"
   ]
  },
  {
   "cell_type": "code",
   "execution_count": 28,
   "metadata": {},
   "outputs": [
    {
     "name": "stdout",
     "output_type": "stream",
     "text": [
      "2\n"
     ]
    }
   ],
   "source": [
    "#Ex6: Faça uma função que informe a quantidade de dígitos de um determinado número inteiro informado.\n",
    "\n",
    "#def retorna_quant_digitos():\n",
    " #   print()\n",
    "#retorna_quant_digitos()\n",
    "\n",
    "def achaTamanho(x):\n",
    "    a = str(x)\n",
    "    if len(a) > 1:\n",
    "        if a[0] == '0':\n",
    "            return len(a) - 1\n",
    "        else:\n",
    "            return len(a)\n",
    "    return len(a)\n",
    "\n",
    "print(achaTamanho())"
   ]
  },
  {
   "cell_type": "code",
   "execution_count": 15,
   "metadata": {},
   "outputs": [
    {
     "data": {
      "text/plain": [
       "3"
      ]
     },
     "execution_count": 15,
     "metadata": {},
     "output_type": "execute_result"
    }
   ],
   "source": [
    "len(\"010\")"
   ]
  },
  {
   "cell_type": "code",
   "execution_count": 66,
   "metadata": {},
   "outputs": [
    {
     "name": "stdout",
     "output_type": "stream",
     "text": [
      "['a', 'r', 'i', 'M', 'a']\n",
      "ariMa\n"
     ]
    }
   ],
   "source": [
    "#Ex7: Construa uma função que receba uma string como parâmetro e devolva outra string com os carateres embaralhados.\n",
    "import random\n",
    "\n",
    "nomes = \"Maria\"\n",
    "nomes_lista = list(nomes)\n",
    "random.shuffle(nomes_lista)\n",
    "print(nomes_lista)\n",
    "nomes_lista = \"\".join(nomes_lista)\n",
    "\n",
    "print(nomes_lista)"
   ]
  },
  {
   "cell_type": "code",
   "execution_count": 59,
   "metadata": {},
   "outputs": [
    {
     "name": "stdout",
     "output_type": "stream",
     "text": [
      "Python:é:muito:bom\n"
     ]
    }
   ],
   "source": [
    "minhaLista = [\"Python\", \"é\", \"muito\", \"bom\"]\n",
    "\n",
    "minhaString = \":\".join(minhaLista)\n",
    "\n",
    "print(minhaString) # Python é muito bom"
   ]
  },
  {
   "cell_type": "code",
   "execution_count": 27,
   "metadata": {},
   "outputs": [
    {
     "ename": "TypeError",
     "evalue": "can only concatenate list (not \"str\") to list",
     "output_type": "error",
     "traceback": [
      "\u001b[0;31m---------------------------------------------------------------------------\u001b[0m",
      "\u001b[0;31mTypeError\u001b[0m                                 Traceback (most recent call last)",
      "Cell \u001b[0;32mIn [27], line 6\u001b[0m\n\u001b[1;32m      3\u001b[0m nome \u001b[38;5;241m=\u001b[39m [\u001b[38;5;124m'\u001b[39m\u001b[38;5;124ma\u001b[39m\u001b[38;5;124m'\u001b[39m, \u001b[38;5;124m'\u001b[39m\u001b[38;5;124mr\u001b[39m\u001b[38;5;124m'\u001b[39m, \u001b[38;5;124m'\u001b[39m\u001b[38;5;124ma\u001b[39m\u001b[38;5;124m'\u001b[39m, \u001b[38;5;124m'\u001b[39m\u001b[38;5;124mi\u001b[39m\u001b[38;5;124m'\u001b[39m, \u001b[38;5;124m'\u001b[39m\u001b[38;5;124mM\u001b[39m\u001b[38;5;124m'\u001b[39m]\n\u001b[1;32m      4\u001b[0m sobrenome \u001b[38;5;241m=\u001b[39m \u001b[38;5;124m'\u001b[39m\u001b[38;5;124mRocha\u001b[39m\u001b[38;5;124m'\u001b[39m\n\u001b[0;32m----> 6\u001b[0m nome_completo \u001b[38;5;241m=\u001b[39m \u001b[43mnome\u001b[49m\u001b[43m \u001b[49m\u001b[38;5;241;43m+\u001b[39;49m\u001b[43m \u001b[49m\u001b[38;5;124;43m'\u001b[39;49m\u001b[38;5;124;43m \u001b[39;49m\u001b[38;5;124;43m'\u001b[39;49m \u001b[38;5;241m+\u001b[39m sobrenome\n\u001b[1;32m      8\u001b[0m \u001b[38;5;28mprint\u001b[39m(nome_completo)\n",
      "\u001b[0;31mTypeError\u001b[0m: can only concatenate list (not \"str\") to list"
     ]
    }
   ],
   "source": [
    "#Part2: Como juntar uma lista de caracteres em uma string\n",
    "\n",
    "nome = ['a', 'r', 'a', 'i', 'M']\n",
    "sobrenome = 'Rocha'\n",
    "\n",
    "nome_completo = nome + ' ' + sobrenome\n",
    "\n",
    "print(nome_completo)\n"
   ]
  },
  {
   "cell_type": "code",
   "execution_count": 12,
   "metadata": {},
   "outputs": [
    {
     "ename": "SyntaxError",
     "evalue": "illegal target for annotation (177694649.py, line 10)",
     "output_type": "error",
     "traceback": [
      "\u001b[0;36m  Cell \u001b[0;32mIn [12], line 10\u001b[0;36m\u001b[0m\n\u001b[0;31m    a > 0 : print(\"P\")\u001b[0m\n\u001b[0m    ^\u001b[0m\n\u001b[0;31mSyntaxError\u001b[0m\u001b[0;31m:\u001b[0m illegal target for annotation\n"
     ]
    }
   ],
   "source": [
    "#Ex8: Faça um programa, com uma função que necessite de um argumento. A função retorna o valor de caractere ‘P’, se seu argumento for positivo, e ‘N’, se seu argumento for zero ou negativo.\n",
    "\n",
    "def retorna_argumento(a):\n",
    "    if a > 0 : print(\"P\")\n",
    "    #Pequisar sobre condição IF & Else no Python\n",
    "    elif a < 0 : print(\"N\")\n",
    "retorna_argumento(3)\n",
    "\n",
    "def retorna_argumento(a):\n",
    "    a > 0 : print(\"P\")\n",
    "    if a < 0 : print(\"N\")\n",
    "retorna_argumento(3)\n"
   ]
  },
  {
   "cell_type": "code",
   "execution_count": null,
   "metadata": {},
   "outputs": [],
   "source": [
    "#Ex1: Criar uma função que recebe um número Int positivo, que verifica se ele é par ou ímpar\n",
    "#Ex2: Criar um função que recebe 2 números, que multiplica um pelo outro, divide essa multiplicação por 2 e retorna o resto do resultado em uma divisão por 7"
   ]
  },
  {
   "cell_type": "code",
   "execution_count": 39,
   "metadata": {},
   "outputs": [
    {
     "name": "stdout",
     "output_type": "stream",
     "text": [
      "Impar\n"
     ]
    }
   ],
   "source": [
    "#Ex1: Criar uma função que recebe um número Int positivo, que verifica se ele é par ou ímpar\n",
    "\n",
    "def verifica_num(a):\n",
    "    a=int(a)\n",
    "    if  a%2:\n",
    "        print(\"Impar\")\n",
    "    else:\n",
    "        print(\"Par\")\n",
    "\n",
    "verifica_num(a=7)"
   ]
  },
  {
   "cell_type": "code",
   "execution_count": 46,
   "metadata": {},
   "outputs": [
    {
     "name": "stdout",
     "output_type": "stream",
     "text": [
      "2.857142857142857\n"
     ]
    }
   ],
   "source": [
    "#Ex2: Criar uma função que recebe 2 números, que multiplica um pelo outro, divide essa multiplicação por 2 e retorna o resto do resultado em uma divisão por 7\n",
    "import math \n",
    "def calcula_numero(a,b):\n",
    "   \n",
    "    c= int(a*b)\n",
    "    x= float(c/2)\n",
    "    y= float(x%7)\n",
    "    print(y)\n",
    "\n",
    "calcula_numero(10,4)"
   ]
  },
  {
   "cell_type": "code",
   "execution_count": 49,
   "metadata": {},
   "outputs": [
    {
     "name": "stdout",
     "output_type": "stream",
     "text": [
      "3.3333333333333335 1\n"
     ]
    }
   ],
   "source": [
    "print(10/3,10%3)"
   ]
  },
  {
   "cell_type": "code",
   "execution_count": null,
   "metadata": {},
   "outputs": [],
   "source": [
    "# oque entendei com uma funcção e como definir\n",
    "# sobre identação"
   ]
  }
 ],
 "metadata": {
  "kernelspec": {
   "display_name": "Python 3.10.6 64-bit",
   "language": "python",
   "name": "python3"
  },
  "language_info": {
   "codemirror_mode": {
    "name": "ipython",
    "version": 3
   },
   "file_extension": ".py",
   "mimetype": "text/x-python",
   "name": "python",
   "nbconvert_exporter": "python",
   "pygments_lexer": "ipython3",
   "version": "3.10.6"
  },
  "orig_nbformat": 4,
  "vscode": {
   "interpreter": {
    "hash": "916dbcbb3f70747c44a77c7bcd40155683ae19c65e1c03b4aa3499c5328201f1"
   }
  }
 },
 "nbformat": 4,
 "nbformat_minor": 2
}
